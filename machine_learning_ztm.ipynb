{
  "nbformat": 4,
  "nbformat_minor": 0,
  "metadata": {
    "colab": {
      "provenance": [],
      "authorship_tag": "ABX9TyO3BHNT3qXw+zQz4wy24KJ+",
      "include_colab_link": true
    },
    "kernelspec": {
      "name": "python3",
      "display_name": "Python 3"
    },
    "language_info": {
      "name": "python"
    }
  },
  "cells": [
    {
      "cell_type": "markdown",
      "metadata": {
        "id": "view-in-github",
        "colab_type": "text"
      },
      "source": [
        "<a href=\"https://colab.research.google.com/github/paul-trood/ztm_machine_learning/blob/main/machine_learning_ztm.ipynb\" target=\"_parent\"><img src=\"https://colab.research.google.com/assets/colab-badge.svg\" alt=\"Open In Colab\"/></a>"
      ]
    },
    {
      "cell_type": "code",
      "execution_count": null,
      "metadata": {
        "id": "_Tl_UR7MufJ4"
      },
      "outputs": [],
      "source": [
        "# 1 Import data\n",
        "# 2 Clean the data\n",
        "# 3 Split the data into a training Set/ test set\n",
        "# 4 Create a model import\n",
        "# 5 Check the output\n",
        "# 6 Improve the model"
      ]
    },
    {
      "cell_type": "code",
      "source": [
        "import pandas as pd"
      ],
      "metadata": {
        "id": "Plpf4KnYzn_R"
      },
      "execution_count": null,
      "outputs": []
    },
    {
      "cell_type": "code",
      "source": [
        "files =[\n",
        "    \"FIFA17_official_data.csv\",\n",
        "    \"FIFA18_official_data.csv\",\n",
        "    \"FIFA19_official_data.csv\",\n",
        "    \"FIFA20_official_data.csv\",\n",
        "    \"FIFA21_official_data.csv\",\n",
        "    \"FIFA22_official_data.csv\",\n",
        "    \"FIFA23_official_data.csv\",\n",
        "]"
      ],
      "metadata": {
        "id": "53mnyBSQzhh5"
      },
      "execution_count": 1,
      "outputs": []
    }
  ]
}